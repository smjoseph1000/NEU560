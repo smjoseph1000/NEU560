{
 "cells": [
  {
   "cell_type": "markdown",
   "metadata": {},
   "source": [
    "**Warning:** This notebook is 'deprecated', as now we're working on the 'MLencoding' class which is demoed in its own notebook. This one might be useful if you want some tips on implementing these things yourself.  \n"
   ]
  },
  {
   "cell_type": "markdown",
   "metadata": {},
   "source": [
    "# Beyond GLMs\n",
    "This notebook accompanies \"Modern Machine Learning Far Outperforms GLMs at Predicting Spikes\". We implement various Machine Learning algorithms for spike prediction and offer this as a Python template.\n",
    "\n",
    "### Table of contents\n",
    "0. Loading data\n",
    "0. Define helper functions for scoring and cross-validation\n",
    "0. Define Models\n",
    "    0. GLM\n",
    "    0. XGBoost\n",
    "    0. Neural Network\n",
    "    0. Random Forest\n",
    "    0. Ensemble\n",
    "0. Nested cross-validation (for evaluating the ensemble)\n",
    "0. Model Comparison\n",
    "    0. M1 original features\n",
    "    0. M1 engineered features\n",
    "    0. M1 all neurons\n",
    "0. Appendix 1: Hyperparameter optimization\n",
    "0. Appendix 2: Running R's glmnet in python\n",
    "\n"
   ]
  },
  {
   "cell_type": "markdown",
   "metadata": {},
   "source": [
    "## Dependencies\n",
    "Basics\n",
    "- numpy\n",
    "- pandas\n",
    "- scipy\n",
    "- matplotlib\n",
    "\n",
    "Methods\n",
    "- sklearn\n",
    "- pyglmnet (glm)\n",
    "- xgboost\n",
    "- theano (NN)\n",
    "- keras (NN)\n",
    "\n",
    "Other\n",
    "- BayesOpt (Bayesian optimization for better hyperparameters)"
   ]
  },
  {
   "cell_type": "code",
   "execution_count": 2,
   "metadata": {},
   "outputs": [],
   "source": [
    "import warnings\n",
    "warnings.filterwarnings('ignore')\n",
    "\n",
    "import numpy as np\n",
    "import pandas as pd\n",
    "import scipy.io\n",
    "\n",
    "import matplotlib.pyplot as plt\n",
    "import matplotlib.gridspec as gridspec\n",
    "\n",
    "%matplotlib inline\n",
    "\n",
    "#for plots\n",
    "def simpleaxis(ax):\n",
    "    ax.spines['top'].set_visible(False)\n",
    "    ax.spines['right'].set_visible(False)\n",
    "    ax.get_xaxis().tick_bottom()\n",
    "    ax.get_yaxis().tick_left()\n",
    "    ax.xaxis.set_tick_params(size=6)\n",
    "    ax.yaxis.set_tick_params(size=6)\n",
    "\n",
    "colors=['#F5A21E', '#02A68E', '#EF3E34', '#134B64', '#FF07CD','b']\n"
   ]
  },
  {
   "cell_type": "markdown",
   "metadata": {},
   "source": [
    "# 1. Data\n",
    "Below we load two datasets available on CRCNS: a [Macaque M1](http://crcns.org/data-sets/movements/dream/downloading-dream) (from [Stevenston et al. 2011](http://jn.physiology.org/content/106/2/764.short)) and a [Rat Hippocampus](http://crcns.org/data-sets/hc/hc-2/about-hc-2) from [Mizuseki et al. 2009](http://www.ncbi.nlm.nih.gov/pubmed/19874793).\n",
    "\n",
    "The data has been organized in Matlab into neat arrays for easy loading here.\n",
    "\n",
    "We will soon want a single numpy array representing the external covariates, and a single numpy vector representing the neural response. The data array X will be of dimensions (n, p), where n is the number of time bins and p is the number of covariates, and the response y will be of dimensions (n, ) . We use pandas as an intermediate tool for data organizing, but it's really not necessary - if using your own data just wrangle it into numpy arrays of proper dimension.\n",
    "\n",
    "#### Load data"
   ]
  },
  {
   "cell_type": "code",
   "execution_count": 3,
   "metadata": {},
   "outputs": [],
   "source": [
    "m1_imported = scipy.io.loadmat('../data/m1_stevenson_2011.mat')"
   ]
  },
  {
   "cell_type": "markdown",
   "metadata": {},
   "source": [
    "### 1.1 Covariates\n",
    "\n",
    "Pull into pandas dataframe. This allows us to easily access covariates by name."
   ]
  },
  {
   "cell_type": "code",
   "execution_count": 4,
   "metadata": {},
   "outputs": [
    {
     "data": {
      "text/html": [
       "<div>\n",
       "<table border=\"1\" class=\"dataframe\">\n",
       "  <thead>\n",
       "    <tr style=\"text-align: right;\">\n",
       "      <th></th>\n",
       "      <th>time</th>\n",
       "      <th>handPos_x</th>\n",
       "      <th>handPos_y</th>\n",
       "      <th>handVel_x</th>\n",
       "      <th>handVel_y</th>\n",
       "    </tr>\n",
       "  </thead>\n",
       "  <tbody>\n",
       "    <tr>\n",
       "      <th>0</th>\n",
       "      <td>12.591</td>\n",
       "      <td>0.002905</td>\n",
       "      <td>-0.303636</td>\n",
       "      <td>-0.011201</td>\n",
       "      <td>-0.006237</td>\n",
       "    </tr>\n",
       "    <tr>\n",
       "      <th>1</th>\n",
       "      <td>12.641</td>\n",
       "      <td>0.002260</td>\n",
       "      <td>-0.303869</td>\n",
       "      <td>-0.010743</td>\n",
       "      <td>-0.000833</td>\n",
       "    </tr>\n",
       "    <tr>\n",
       "      <th>2</th>\n",
       "      <td>12.691</td>\n",
       "      <td>0.002399</td>\n",
       "      <td>-0.303631</td>\n",
       "      <td>0.017680</td>\n",
       "      <td>0.012094</td>\n",
       "    </tr>\n",
       "    <tr>\n",
       "      <th>3</th>\n",
       "      <td>12.741</td>\n",
       "      <td>0.004010</td>\n",
       "      <td>-0.302399</td>\n",
       "      <td>0.044667</td>\n",
       "      <td>0.038700</td>\n",
       "    </tr>\n",
       "    <tr>\n",
       "      <th>4</th>\n",
       "      <td>12.791</td>\n",
       "      <td>0.006386</td>\n",
       "      <td>-0.300673</td>\n",
       "      <td>0.042202</td>\n",
       "      <td>0.017021</td>\n",
       "    </tr>\n",
       "  </tbody>\n",
       "</table>\n",
       "</div>"
      ],
      "text/plain": [
       "     time  handPos_x  handPos_y  handVel_x  handVel_y\n",
       "0  12.591   0.002905  -0.303636  -0.011201  -0.006237\n",
       "1  12.641   0.002260  -0.303869  -0.010743  -0.000833\n",
       "2  12.691   0.002399  -0.303631   0.017680   0.012094\n",
       "3  12.741   0.004010  -0.302399   0.044667   0.038700\n",
       "4  12.791   0.006386  -0.300673   0.042202   0.017021"
      ]
     },
     "execution_count": 4,
     "metadata": {},
     "output_type": "execute_result"
    }
   ],
   "source": [
    "data = pd.DataFrame()\n",
    "data['time'] =  m1_imported['time'][0]\n",
    "data['handPos_x'] =  m1_imported['handPos'][0]\n",
    "data['handPos_y'] =  m1_imported['handPos'][1]\n",
    "data['handVel_x'] =  m1_imported['handVel'][0]\n",
    "data['handVel_y'] =  m1_imported['handVel'][1]\n",
    "data.head() "
   ]
  },
  {
   "cell_type": "markdown",
   "metadata": {},
   "source": [
    "### Plot raw M1 data\n",
    "\n",
    "This gives some intuitive feeling for the type of data we're working with."
   ]
  },
  {
   "cell_type": "code",
   "execution_count": 5,
   "metadata": {},
   "outputs": [
    {
     "data": {
      "image/png": "[encoded data removed]",
      "text/plain": [
       "<matplotlib.figure.Figure at 0x118d881d0>"
      ]
     },
     "metadata": {},
     "output_type": "display_data"
    }
   ],
   "source": [
    "plt.figure(figsize=(10,10))\n",
    "plt.rcParams['font.size'] = 10\n",
    "plt.rcParams['font.weight'] = 'medium'\n",
    "ldata = m1_imported['spikes'].shape\n",
    "\n",
    "# Position scatter\n",
    "ts = 14\n",
    "gs0 = gridspec.GridSpec(3, 2)\n",
    "plt.subplot(gs0[0,0])\n",
    "simpleaxis(plt.gca())\n",
    "plt.scatter(data['handPos_x'], data['handPos_y'], s=.1, alpha=.1)\n",
    "\n",
    "plt.xlabel('x [m]')\n",
    "plt.ylabel('y [m]')\n",
    "plt.axis('equal')\n",
    "plt.title('Hand Position',fontsize=ts)\n",
    "plt.ylim([-0.42,-0.16])\n",
    "plt.xlim([-0.15,0.15])\n",
    "plt.xticks(np.arange(-0.15,0.2, .1))\n",
    "\n",
    "# Velocity scatter\n",
    "plt.subplot(gs0[0,1])\n",
    "simpleaxis(plt.gca())\n",
    "plt.scatter(data['handVel_x'], data['handVel_y'], s=.1, alpha=.1)\n",
    "\n",
    "plt.xlabel('$v_x$ [m/s]')\n",
    "plt.ylabel('$v_y$ [m/s]')\n",
    "plt.axis('equal')\n",
    "plt.title('Hand Velocity',fontsize=ts)\n",
    "\n",
    "# Position trace\n",
    "plt.subplot(gs0[1,:])\n",
    "a=plt.gca()\n",
    "simpleaxis(a)\n",
    "a.text(-20,-.03,'X',weight='bold')\n",
    "a.text(-20,-.33,'Y',weight='bold')\n",
    "alpha = 0.8\n",
    "lw = 1\n",
    "plt.plot(data['time'], data['handPos_x'], 'k-', alpha=alpha, lw=lw)\n",
    "plt.plot(data['time'], data['handPos_y'], '-', color=colors[0], alpha=alpha, lw=lw)\n",
    "a.axis([-40,800,-0.5,0.1])\n",
    "\n",
    "plt.xlabel('Time [s]')\n",
    "plt.ylabel('x, y [m]')\n",
    "plt.title('Hand Position')\n",
    "\n",
    "\n",
    "plt.tight_layout()\n",
    "plt.show()\n"
   ]
  },
  {
   "cell_type": "markdown",
   "metadata": {},
   "source": [
    "#### Compute more covariates/features\n",
    "\n",
    "These will be used as the 'engineered' features for improving the GLM's performance."
   ]
  },
  {
   "cell_type": "code",
   "execution_count": 6,
   "metadata": {},
   "outputs": [
    {
     "data": {
      "text/html": [
       "<div>\n",
       "<table border=\"1\" class=\"dataframe\">\n",
       "  <thead>\n",
       "    <tr style=\"text-align: right;\">\n",
       "      <th></th>\n",
       "      <th>time</th>\n",
       "      <th>handPos_x</th>\n",
       "      <th>handPos_y</th>\n",
       "      <th>handVel_x</th>\n",
       "      <th>handVel_y</th>\n",
       "      <th>velDir</th>\n",
       "      <th>cos_velDir</th>\n",
       "      <th>sin_velDir</th>\n",
       "      <th>speed</th>\n",
       "      <th>cos_PosDir</th>\n",
       "      <th>sin_PosDir</th>\n",
       "      <th>radial_Pos</th>\n",
       "    </tr>\n",
       "  </thead>\n",
       "  <tbody>\n",
       "    <tr>\n",
       "      <th>0</th>\n",
       "      <td>12.591</td>\n",
       "      <td>0.002905</td>\n",
       "      <td>-0.303636</td>\n",
       "      <td>-0.011201</td>\n",
       "      <td>-0.006237</td>\n",
       "      <td>-2.633523</td>\n",
       "      <td>-0.873685</td>\n",
       "      <td>-0.486491</td>\n",
       "      <td>0.012820</td>\n",
       "      <td>0.009568</td>\n",
       "      <td>-0.999954</td>\n",
       "      <td>0.303650</td>\n",
       "    </tr>\n",
       "    <tr>\n",
       "      <th>1</th>\n",
       "      <td>12.641</td>\n",
       "      <td>0.002260</td>\n",
       "      <td>-0.303869</td>\n",
       "      <td>-0.010743</td>\n",
       "      <td>-0.000833</td>\n",
       "      <td>-3.064245</td>\n",
       "      <td>-0.997010</td>\n",
       "      <td>-0.077271</td>\n",
       "      <td>0.010775</td>\n",
       "      <td>0.007437</td>\n",
       "      <td>-0.999972</td>\n",
       "      <td>0.303877</td>\n",
       "    </tr>\n",
       "    <tr>\n",
       "      <th>2</th>\n",
       "      <td>12.691</td>\n",
       "      <td>0.002399</td>\n",
       "      <td>-0.303631</td>\n",
       "      <td>0.017680</td>\n",
       "      <td>0.012094</td>\n",
       "      <td>0.599956</td>\n",
       "      <td>0.825360</td>\n",
       "      <td>0.564606</td>\n",
       "      <td>0.021420</td>\n",
       "      <td>0.007900</td>\n",
       "      <td>-0.999969</td>\n",
       "      <td>0.303641</td>\n",
       "    </tr>\n",
       "    <tr>\n",
       "      <th>3</th>\n",
       "      <td>12.741</td>\n",
       "      <td>0.004010</td>\n",
       "      <td>-0.302399</td>\n",
       "      <td>0.044667</td>\n",
       "      <td>0.038700</td>\n",
       "      <td>0.713933</td>\n",
       "      <td>0.755792</td>\n",
       "      <td>0.654812</td>\n",
       "      <td>0.059100</td>\n",
       "      <td>0.013258</td>\n",
       "      <td>-0.999912</td>\n",
       "      <td>0.302426</td>\n",
       "    </tr>\n",
       "    <tr>\n",
       "      <th>4</th>\n",
       "      <td>12.791</td>\n",
       "      <td>0.006386</td>\n",
       "      <td>-0.300673</td>\n",
       "      <td>0.042202</td>\n",
       "      <td>0.017021</td>\n",
       "      <td>0.383375</td>\n",
       "      <td>0.927408</td>\n",
       "      <td>0.374053</td>\n",
       "      <td>0.045505</td>\n",
       "      <td>0.021233</td>\n",
       "      <td>-0.999775</td>\n",
       "      <td>0.300741</td>\n",
       "    </tr>\n",
       "  </tbody>\n",
       "</table>\n",
       "</div>"
      ],
      "text/plain": [
       "     time  handPos_x  handPos_y  handVel_x  handVel_y    velDir  cos_velDir  \\\n",
       "0  12.591   0.002905  -0.303636  -0.011201  -0.006237 -2.633523   -0.873685   \n",
       "1  12.641   0.002260  -0.303869  -0.010743  -0.000833 -3.064245   -0.997010   \n",
       "2  12.691   0.002399  -0.303631   0.017680   0.012094  0.599956    0.825360   \n",
       "3  12.741   0.004010  -0.302399   0.044667   0.038700  0.713933    0.755792   \n",
       "4  12.791   0.006386  -0.300673   0.042202   0.017021  0.383375    0.927408   \n",
       "\n",
       "   sin_velDir     speed  cos_PosDir  sin_PosDir  radial_Pos  \n",
       "0   -0.486491  0.012820    0.009568   -0.999954    0.303650  \n",
       "1   -0.077271  0.010775    0.007437   -0.999972    0.303877  \n",
       "2    0.564606  0.021420    0.007900   -0.999969    0.303641  \n",
       "3    0.654812  0.059100    0.013258   -0.999912    0.302426  \n",
       "4    0.374053  0.045505    0.021233   -0.999775    0.300741  "
      ]
     },
     "execution_count": 6,
     "metadata": {},
     "output_type": "execute_result"
    }
   ],
   "source": [
    "data['velDir'] = np.arctan2(data['handVel_y'], data['handVel_x'])\n",
    "data['cos_velDir'] = np.cos(data['velDir'])\n",
    "data['sin_velDir'] = np.sin(data['velDir'])\n",
    "data['speed'] = np.sqrt(data['handVel_x'].values**2+data['handVel_y'].values**2)\n",
    "r = np.arctan2(data['handPos_y'], data['handPos_x'])\n",
    "data['cos_PosDir'] = np.cos(r)\n",
    "data['sin_PosDir'] = np.sin(r)\n",
    "data['radial_Pos'] = np.sqrt(data['handPos_x'].values**2+data['handPos_y'].values**2)\n",
    "data.head()"
   ]
  },
  {
   "cell_type": "markdown",
   "metadata": {},
   "source": [
    "# 3. Cross-validation\n",
    "It's important to \n",
    "\n",
    "1. evaluate the performance of a method on held-out data\n",
    "2. train as as much data as you can\n",
    "3. have greater confidence in your results (see comic). \n",
    "\n",
    "These three criteria are met with [k-fold cross-validation (CV) ](https://en.wikipedia.org/wiki/Cross-validation_(statistics). The method `fit_cv` below returns a cross-validated pseudo-R2 score for an algorithm on a dataset.\n",
    "\n",
    "__Note regarding ensemble:__ When training a stacked ensemble, it's good practice to train the 2nd-stage regressor on the predictions of 1st-stage regressors _not trained on data in the ensemble's test set_. Otherwise there could be some data leakage and overfitting; the 1st-stage regressors may have learned some of statistics of the noise specific to the test set, for example. It's not guaranteed this will happen, especially for larger datasets, but to be correct you can use the `fit_nested_cv` and accompanying `ensemble_cv` methods in __Appendix 1__."
   ]
  },
  {
   "cell_type": "markdown",
   "metadata": {},
   "source": [
    "[![crossvalidate](http://imgs.xkcd.com/comics/linear_regression.png)](http://xkcd.com/1725/)"
   ]
  },
  {
   "cell_type": "code",
   "execution_count": 7,
   "metadata": {},
   "outputs": [],
   "source": [
    "from sklearn.model_selection import KFold\n",
    "\n",
    "\n",
    "def poisson_pseudoR2(y, yhat, ynull):\n",
    "    # This is our scoring function. Implements pseudo-R2\n",
    "    yhat = yhat.reshape(y.shape)\n",
    "    eps = np.spacing(1)\n",
    "    L1 = np.sum(y*np.log(eps+yhat) - yhat)\n",
    "    L1_v = y*np.log(eps+yhat) - yhat\n",
    "    L0 = np.sum(y*np.log(eps+ynull) - ynull)\n",
    "    LS = np.sum(y*np.log(eps+y) - y)\n",
    "    R2 = 1-(LS-L1)/(LS-L0)\n",
    "    return R2\n",
    "\n",
    "def fit_cv(X, Y, algorithm, n_cv=10, verbose=1):\n",
    "    \"\"\"Performs cross-validated fitting. Returns (Y_hat, pR2_cv); a vector of predictions Y_hat with the\n",
    "    same dimensions as Y, and a list of pR2 scores on each fold pR2_cv.\n",
    "    \n",
    "    X  = input data\n",
    "    Y = spiking data\n",
    "    algorithm = a function of (Xr, Yr, Xt) {training data Xr and response Yr and testing features Xt}\n",
    "                and returns the predicted response Yt\n",
    "    n_cv = number of cross-validations folds\n",
    "    \n",
    "    \"\"\"\n",
    "    if np.ndim(X)==1:\n",
    "        X = np.transpose(np.atleast_2d(X))\n",
    "\n",
    "    cv_kf = KFold(n_splits=n_cv, shuffle=True, random_state=42)\n",
    "    skf  = cv_kf.split(X)\n",
    "\n",
    "    i=1\n",
    "    Y_hat=np.zeros(len(Y))\n",
    "    pR2_cv = list()\n",
    "    for idx_r, idx_t in skf:\n",
    "        if verbose > 1:\n",
    "            print( '...runnning cv-fold', i, 'of', n_cv)\n",
    "        i+=1\n",
    "        Xr = X[idx_r, :]\n",
    "        Yr = Y[idx_r]\n",
    "        Xt = X[idx_t, :]\n",
    "        Yt = Y[idx_t]\n",
    "\n",
    "        Yt_hat = eval(algorithm)(Xr, Yr, Xt)\n",
    "        Y_hat[idx_t] = Yt_hat\n",
    "\n",
    "        pR2 = poisson_pseudoR2(Yt, Yt_hat, np.mean(Yr))\n",
    "        pR2_cv.append(pR2)\n",
    "\n",
    "        if verbose > 1:\n",
    "            print( 'pR2: ', pR2)\n",
    "\n",
    "    if verbose > 0:\n",
    "        print(\"pR2_cv: %0.6f (+/- %0.6f)\" % (np.mean(pR2_cv),\n",
    "                                             np.std(pR2_cv)/np.sqrt(n_cv)))\n",
    "\n",
    "    return Y_hat, pR2_cv\n"
   ]
  },
  {
   "cell_type": "code",
   "execution_count": 8,
   "metadata": {
    "collapsed": true
   },
   "outputs": [],
   "source": [
    "\n",
    "def plot_model_comparison(models_for_plot, models=[], color='r', title=None, labels=[],fs=12):\n",
    "    \"\"\"Just makes a comparision bar plot.\"\"\"\n",
    "    plt.plot([-1, len(models_for_plot)], [0,0],'--k', alpha=0.4)\n",
    "    \n",
    "    if not labels: \n",
    "        labels = models_for_plot\n",
    "\n",
    "    mean_pR2 = list()\n",
    "    sem_pR2 = list()\n",
    "\n",
    "    for model in models_for_plot:\n",
    "        PR2_art = models[model]['PR2']\n",
    "        mean_pR2.append(np.mean(PR2_art))\n",
    "        sem_pR2.append(np.std(PR2_art)/np.sqrt(np.size(PR2_art)))\n",
    "\n",
    "    plt.bar(np.arange(np.size(mean_pR2)), mean_pR2, 0.8, align='center',\n",
    "            ecolor='k', alpha=.9, color=color, ec='w', yerr=np.array(sem_pR2),\n",
    "            tick_label=labels)\n",
    "    plt.plot(np.arange(np.size(mean_pR2)), mean_pR2, 'k.', markersize=15)\n",
    "\n",
    "    plt.ylabel('Pseudo-R2',fontsize=fs)\n",
    "    simpleaxis(plt.gca())\n",
    "    if title:\n",
    "        plt.title(title)"
   ]
  },
  {
   "cell_type": "markdown",
   "metadata": {},
   "source": [
    "## Define Models\n",
    "\n",
    "### GLM\n",
    "\n",
    "Note: Different problems may require different regularization parameters __alpha__ and __reg_lambda__. The __learning_rate, tol__, and __max_iter__ should also be adjusted to ensure convergence (they can be touchy).\n",
    "\n",
    "One can also compare two implementations of a GLM against each other to ensure proper convergence. See appendix for a note of how to implement R's 'glmnet' in python."
   ]
  },
  {
   "cell_type": "code",
   "execution_count": 8,
   "metadata": {},
   "outputs": [],
   "source": [
    "from pyglmnet import GLM\n",
    "\n",
    "def glm_pyglmnet(Xr, Yr, Xt):\n",
    "    glm = GLM(distr='softplus', alpha=0.1, tol=1e-8, verbose=0,\n",
    "              reg_lambda=np.logspace(np.log(0.05), np.log(0.0001), 10, base=np.exp(1)),\n",
    "              learning_rate=2, max_iter=10000, eta=2.0, random_state=1)\n",
    "\n",
    "    \n",
    "    glm.fit(Xr, Yr)\n",
    "    Yt = glm[-1].predict(Xt)\n",
    "    \n",
    "    return Yt\n"
   ]
  },
  {
   "cell_type": "markdown",
   "metadata": {},
   "source": [
    "### XGBoost\n",
    "\n",
    "Note: Many of these parameters __(learning rate, # estimators, subsampling, max_depth, and gamma)__ should be optimized for the prediction problem at hand. Optimization can be done with a grid search, randomized search, or with Bayesian Optimization (see appendix at bottom.)"
   ]
  },
  {
   "cell_type": "code",
   "execution_count": 11,
   "metadata": {},
   "outputs": [],
   "source": [
    "import xgboost as xgb\n",
    "\n",
    "def xgb_run(Xr, Yr, Xt):\n",
    "    params = {'objective': \"count:poisson\", #for poisson output\n",
    "    'eval_metric': \"logloss\", #loglikelihood loss\n",
    "    'seed': 2925, #for reproducibility\n",
    "    'silent': 1,\n",
    "    'learning_rate': 0.05,\n",
    "    'min_child_weight': 2, 'n_estimators': 580,\n",
    "    'subsample': 0.6, 'max_depth': 5, 'gamma': 0.4}        \n",
    "     \n",
    "\n",
    "    dtrain = xgb.DMatrix(Xr, label=Yr)\n",
    "    dtest = xgb.DMatrix(Xt)\n",
    "\n",
    "    num_round = 200\n",
    "    bst = xgb.train(params, dtrain, num_round)\n",
    "\n",
    "    Yt = bst.predict(dtest)\n",
    "    return Yt\n"
   ]
  },
  {
   "cell_type": "markdown",
   "metadata": {},
   "source": [
    "### Neural Nets\n",
    "\n",
    "Note: Again, these parameters should be optimized. We highlight __dropout__, elastic net regularization __l1, l2__, and the number of nodes in the hidden layers. Optimization can be done with a grid search, randomized search, or with Bayesian Optimization (see appendix at bottom.)\n",
    "\n",
    "There are many, many options for implementing NNs. One might also test maxnorm regularization, e.g. RMSprop instead of Nadam, more or less layers, or different batch sizes or number of epochs."
   ]
  },
  {
   "cell_type": "code",
   "execution_count": 13,
   "metadata": {},
   "outputs": [],
   "source": [
    "from keras.models import Sequential\n",
    "from keras.layers.core import Dense, Dropout, Activation, Lambda\n",
    "from keras.regularizers import l1l2\n",
    "from keras.optimizers import Nadam\n",
    "\n",
    "\n",
    "def nn(Xr, Yr, Xt):\n",
    "\n",
    "    params = {'dropout': 0.5,\n",
    "              'l1': 0.0,\n",
    "              'l2': 0.0,\n",
    "              'n1': 1980, #number of layers in 1st hidden layer\n",
    "              'n2': 18}\n",
    "\n",
    "    if np.ndim(Xr)==1:\n",
    "        Xr = np.transpose(np.atleast_2d(Xr))\n",
    "\n",
    "    model = Sequential()\n",
    "    model.add(Dense(params['n1'], input_dim=np.shape(Xr)[1], init='glorot_normal',\n",
    "                activation='relu', W_regularizer=l1l2(params['l1'],params['l2'])))\n",
    "    model.add(Dropout(params['dropout']))\n",
    "    model.add(Dense(params['n2'], init='glorot_normal'\n",
    "                    , activation='relu',W_regularizer=l1l2(params['l1'],params['l2'])))\n",
    "    model.add(Dense(1,activation='softplus'))\n",
    "\n",
    "    optim = Nadam()\n",
    "    model.compile(loss='poisson', optimizer=optim,)\n",
    "    hist = model.fit(Xr, Yr, batch_size = 32, nb_epoch=5, verbose=0, validation_split=0.0)\n",
    "    Yt = model.predict(Xt)[:,0]\n",
    "    return Yt\n",
    "\n"
   ]
  },
  {
   "cell_type": "markdown",
   "metadata": {},
   "source": [
    "### Other methods\n",
    "These methods aren't highlighted in the paper but may help to improve the ensemble.\n",
    "##### Random Forest"
   ]
  },
  {
   "cell_type": "code",
   "execution_count": 14,
   "metadata": {
    "collapsed": true
   },
   "outputs": [],
   "source": [
    "from sklearn.ensemble import RandomForestRegressor\n",
    "\n",
    "def rf(Xr, Yr, Xt):\n",
    "    params = {'max_depth': 15,\n",
    "             'min_samples_leaf': 4,\n",
    "             'min_samples_split': 5,\n",
    "             'min_weight_fraction_leaf': 0.0,\n",
    "             'n_estimators': 471}\n",
    "    \n",
    "    clf = RandomForestRegressor(**params)\n",
    "    clf.fit(Xr, Yr)\n",
    "    Yt = clf.predict(Xt)\n",
    "    return Yt"
   ]
  },
  {
   "cell_type": "markdown",
   "metadata": {},
   "source": [
    "##### K-nearest neighbors"
   ]
  },
  {
   "cell_type": "code",
   "execution_count": 15,
   "metadata": {
    "collapsed": true
   },
   "outputs": [],
   "source": [
    "from sklearn.neighbors import KNeighborsRegressor\n",
    "\n",
    "def knn(Xr, Yr, Xt):\n",
    "    neigh = KNeighborsRegressor(n_neighbors=5,weights='distance')\n",
    "    neigh.fit(Xr, Yr) \n",
    "    Yt = neigh.predict(Xt)\n",
    "    #returns list of probabilities for each category\n",
    "    return Yt"
   ]
  },
  {
   "cell_type": "markdown",
   "metadata": {},
   "source": [
    "### Ensemble\n",
    "\n",
    "\n",
    "One can use any algorithm as the stacked model (the one which takes previous models as inputs). XGBoost tends to work well. Note that the input data Xr and Xt will be the _outputs_ Yt_hat of the above functions.\n",
    "\n",
    "A simple weighted model average also tends to work fairly well, in which case we'll use a (rectified) linear regressor as the stacked regressor. That's defined below."
   ]
  },
  {
   "cell_type": "code",
   "execution_count": 16,
   "metadata": {
    "collapsed": true
   },
   "outputs": [],
   "source": [
    "from sklearn.linear_model import LinearRegression\n",
    "\n",
    "def lin_comb(Xr, Yr, Xt):\n",
    "    lr = LinearRegression()\n",
    "    lr.fit(Xr, Yr)\n",
    "    Yt = lr.predict(Xt)\n",
    "    \n",
    "    #rectify outputs\n",
    "    Yt = np.maximum(Yt,np.zeros(Yt.shape))\n",
    "    return Yt\n"
   ]
  },
  {
   "cell_type": "markdown",
   "metadata": {},
   "source": [
    "## Method comparison\n",
    "\n",
    "Let's take a single neuron from the M1 set and test the above methods.\n",
    "\n",
    "First we'll test on the set of _original features_ (not engineered)."
   ]
  },
  {
   "cell_type": "code",
   "execution_count": 17,
   "metadata": {
    "collapsed": true
   },
   "outputs": [],
   "source": [
    "X = data[['handPos_x','handPos_y','handVel_x','handVel_y']].values\n",
    "\n",
    "neuron_n = 1\n",
    "y = m1_imported['spikes'][neuron_n]"
   ]
  },
  {
   "cell_type": "markdown",
   "metadata": {},
   "source": [
    "Let's plot the neuron's response vs. velocity direction."
   ]
  },
  {
   "cell_type": "code",
   "execution_count": 15,
   "metadata": {},
   "outputs": [
    {
     "data": {
      "image/png": "[encoded data removed]",
      "text/plain": [
       "<matplotlib.figure.Figure at 0x7f5afa6e11d0>"
      ]
     },
     "metadata": {},
     "output_type": "display_data"
    }
   ],
   "source": [
    "plt.figure(figsize=(10,5))\n",
    "\n",
    "# Use jitter on the y axis for vizualization of trends\n",
    "y_noise = np.random.randn(np.size(y))\n",
    "nnoise = 0.2\n",
    "\n",
    "plt.subplot(121)\n",
    "simpleaxis(plt.gca())\n",
    "\n",
    "plt.plot(data['handVel_x'], y+nnoise*y_noise, 'k.', alpha=0.1)\n",
    "plt.xlabel('Speed in X')\n",
    "plt.ylabel('spike counts')\n",
    "\n",
    "plt.subplot(122)\n",
    "simpleaxis(plt.gca())\n",
    "\n",
    "plt.plot(data['handVel_y'], y+nnoise*y_noise, 'k.', alpha=0.1)\n",
    "plt.xlabel('Speed in Y')\n",
    "plt.ylabel('spike counts')\n",
    "\n",
    "plt.show()"
   ]
  },
  {
   "cell_type": "markdown",
   "metadata": {},
   "source": [
    "Now we can fit the data using a method from above:"
   ]
  },
  {
   "cell_type": "code",
   "execution_count": 20,
   "metadata": {
    "collapsed": true
   },
   "outputs": [],
   "source": [
    "#We'll store results here.\n",
    "Models = dict()"
   ]
  },
  {
   "cell_type": "code",
   "execution_count": 17,
   "metadata": {},
   "outputs": [
    {
     "name": "stdout",
     "output_type": "stream",
     "text": [
      "('...runnning cv-fold', 1, 'of', 8)\n",
      "('pR2: ', 0.047990744845053945)\n",
      "('...runnning cv-fold', 2, 'of', 8)\n",
      "('pR2: ', 0.041296859143503339)\n",
      "('...runnning cv-fold', 3, 'of', 8)\n",
      "('pR2: ', 0.055977421252294768)\n",
      "('...runnning cv-fold', 4, 'of', 8)\n",
      "('pR2: ', 0.046396193112219875)\n",
      "('...runnning cv-fold', 5, 'of', 8)\n",
      "('pR2: ', 0.058007222444918738)\n",
      "('...runnning cv-fold', 6, 'of', 8)\n",
      "('pR2: ', 0.052409653792728994)\n",
      "('...runnning cv-fold', 7, 'of', 8)\n",
      "('pR2: ', 0.056002175496805306)\n",
      "('...runnning cv-fold', 8, 'of', 8)\n",
      "('pR2: ', 0.048319487792282678)\n",
      "pR2_cv: 0.050800 (+/- 0.001905)\n"
     ]
    }
   ],
   "source": [
    "Yt_hat, PR2 = fit_cv(X, y, algorithm = 'glm_pyglmnet', n_cv=8, verbose=2)\n",
    "\n",
    "Models['glm'] = dict()\n",
    "Models['glm']['Yt_hat'] = Yt_hat\n",
    "Models['glm']['PR2'] = PR2"
   ]
  },
  {
   "cell_type": "markdown",
   "metadata": {},
   "source": [
    "Or all at once:"
   ]
  },
  {
   "cell_type": "code",
   "execution_count": 18,
   "metadata": {},
   "outputs": [
    {
     "name": "stdout",
     "output_type": "stream",
     "text": [
      "Running nn...\n",
      "pR2_cv: 0.103180 (+/- 0.003494)\n",
      "Running xgb_run...\n",
      "pR2_cv: 0.151781 (+/- 0.004155)\n",
      "Running rf...\n",
      "pR2_cv: 0.152336 (+/- 0.007846)\n",
      "Running knn...\n",
      "pR2_cv: -1.448570 (+/- 0.113684)\n"
     ]
    }
   ],
   "source": [
    "methods = ['nn','xgb_run','rf','knn']\n",
    "\n",
    "for method in methods:\n",
    "    print('Running '+method+'...')\n",
    "    Yt_hat, PR2 = fit_cv(X, y, algorithm = method, n_cv=8, verbose=1)\n",
    "    Models[method] = dict()\n",
    "    Models[method]['Yt_hat'] = Yt_hat\n",
    "    Models[method]['PR2'] = PR2"
   ]
  },
  {
   "cell_type": "markdown",
   "metadata": {},
   "source": [
    "Now we can make the ensemble. \n",
    "\n",
    "Note that the ensemble should really be trained on predictions from 1st-stage models that were not trained on the ensemble's test set. This is not the case in a normal CV scheme. We could be slightly overfitting below. "
   ]
  },
  {
   "cell_type": "code",
   "execution_count": 19,
   "metadata": {},
   "outputs": [
    {
     "name": "stdout",
     "output_type": "stream",
     "text": [
      "pR2_cv: 0.160000 (+/- 0.004474)\n",
      "pR2_cv: 0.159438 (+/- 0.007553)\n"
     ]
    }
   ],
   "source": [
    "methods = ['glm','nn','xgb_run','rf','knn']\n",
    "X_ens = list()\n",
    "for method in methods:\n",
    "    X_ens.append(Models[method]['Yt_hat'])\n",
    "    \n",
    "# The columns of X_ens are the predictions of each of the above methods\n",
    "X_ens = np.transpose(np.array(X_ens))\n",
    "\n",
    "#We can use XGBoost as the 2nd-stage model\n",
    "Yt_hat, PR2 = fit_cv(X_ens, y, algorithm = 'xgb_run', n_cv=8, verbose=1)\n",
    "Models['ens_xgb'] = dict()\n",
    "Models['ens_xgb']['Yt_hat'] = Yt_hat\n",
    "Models['ens_xgb']['PR2'] = PR2\n",
    "\n",
    "#Let's also test the weighted model average.\n",
    "Yt_hat, PR2 = fit_cv(X_ens, y, algorithm = 'lin_comb', n_cv=8, verbose=1)\n",
    "Models['ens'] = dict()\n",
    "Models['ens']['Yt_hat'] = Yt_hat\n",
    "Models['ens']['PR2'] = PR2"
   ]
  },
  {
   "cell_type": "code",
   "execution_count": 20,
   "metadata": {},
   "outputs": [
    {
     "data": {
      "image/png": "[encoded data removed]",
      "text/plain": [
       "<matplotlib.figure.Figure at 0x7f5acf454a90>"
      ]
     },
     "metadata": {},
     "output_type": "display_data"
    }
   ],
   "source": [
    "plot_model_comparison(['glm', 'nn','xgb_run','rf','knn','ens_xgb','ens'],models=Models,\n",
    "                      color=colors,labels = ['GLM','NN','XGB','RF','KNN','Ens.\\n (XGBoost)','Ens.\\n (Linear)'])\n",
    "plt.ylim((-.2,.2));"
   ]
  },
  {
   "cell_type": "markdown",
   "metadata": {},
   "source": [
    "Though the KNN worse than the mean in this case; it could possibly be omitted (as it was in the paper).\n",
    "\n",
    "__We're (mostly) done!__ These are the basics of running these methods. To improve all methods, we can add more features. These could be the predicted spike history, representing wholly new information, or simply engineered function of the original features (as done below).\n",
    "\n",
    "### Use engineered features\n",
    "\n",
    "We can get better performance on all methods by engineering the features. "
   ]
  },
  {
   "cell_type": "code",
   "execution_count": 18,
   "metadata": {},
   "outputs": [
    {
     "name": "stdout",
     "output_type": "stream",
     "text": [
      "Features are:\n",
      " ['handPos_x', 'handPos_y', 'handVel_x', 'handVel_y', 'velDir', 'cos_velDir', 'sin_velDir', 'speed', 'cos_PosDir', 'sin_PosDir', 'radial_Pos']\n"
     ]
    }
   ],
   "source": [
    "print('Features are:\\n %s' %list(data.drop('time', axis=1).keys()))\n",
    "\n",
    "X = data.drop('time', axis=1).values\n",
    "\n",
    "neuron_n = 1\n",
    "y = m1_imported['spikes'][neuron_n]"
   ]
  },
  {
   "cell_type": "code",
   "execution_count": 22,
   "metadata": {},
   "outputs": [
    {
     "name": "stdout",
     "output_type": "stream",
     "text": [
      "Running nn...\n",
      "pR2_cv: 0.107126 (+/- 0.003541)\n",
      "Running xgb_run...\n",
      "pR2_cv: 0.150395 (+/- 0.003881)\n",
      "Running rf...\n",
      "pR2_cv: 0.154391 (+/- 0.005442)\n",
      "Running knn...\n",
      "pR2_cv: -1.511966 (+/- 0.088065)\n",
      "Running ensemble...\n",
      "pR2_cv: 0.157612 (+/- 0.004021)\n",
      "pR2_cv: 0.151999 (+/- 0.008572)\n"
     ]
    }
   ],
   "source": [
    "methods = ['glm_pyglmnet','nn','xgb_run','rf','knn']\n",
    "\n",
    "for method in methods:\n",
    "    print('Running '+method+'...')\n",
    "    Yt_hat, PR2 = fit_cv(X, y, algorithm = method, n_cv=8, verbose=1)\n",
    "    Models[method+'_engineered'] = dict()\n",
    "    Models[method+'_engineered']['Yt_hat'] = Yt_hat\n",
    "    Models[method+'_engineered']['PR2'] = PR2\n",
    "    \n",
    "print('Running ensemble...')\n",
    "# Put the previous results in a new data matrix\n",
    "X_ens = list()\n",
    "for method in methods:\n",
    "    X_ens.append(Models[method+'_engineered']['Yt_hat'])\n",
    "X_ens = np.transpose(np.array(X_ens))\n",
    "\n",
    "#We can use XGBoost as the 2nd-stage model\n",
    "Yt_hat, PR2 = fit_cv(X_ens, y, algorithm = 'xgb_run', n_cv=8, verbose=1)\n",
    "Models['ens_xgb_engineered'] = dict()\n",
    "Models['ens_xgb_engineered']['Yt_hat'] = Yt_hat\n",
    "Models['ens_xgb_engineered']['PR2'] = PR2\n",
    "\n",
    "Yt_hat, PR2 = fit_cv(X_ens, y, algorithm = 'lin_comb', n_cv=8, verbose=1)\n",
    "Models['ens_engineered'] = dict()\n",
    "Models['ens_engineered']['Yt_hat'] = Yt_hat\n",
    "Models['ens_engineered']['PR2'] = PR2"
   ]
  },
  {
   "cell_type": "code",
   "execution_count": 23,
   "metadata": {
    "scrolled": true
   },
   "outputs": [
    {
     "data": {
      "image/png": "[encoded data removed]",
      "text/plain": [
       "<matplotlib.figure.Figure at 0x1203b50f0>"
      ]
     },
     "metadata": {},
     "output_type": "display_data"
    }
   ],
   "source": [
    "plot_model_comparison(['glm_pyglmnet_engineered','nn_engineered','xgb_run_engineered','rf_engineered','knn_engineered','ens_xgb_engineered','ens_engineered']\n",
    "                      ,models=Models, color=colors,labels = ['GLM','NN','XGB','RF','KNN','Ens.\\n (XGBoost)','Ens.\\n (Linear)'])\n",
    "\n",
    "plt.ylim((-.2,.2));"
   ]
  },
  {
   "cell_type": "markdown",
   "metadata": {},
   "source": [
    "Looks like the tree-based methods (XGBoost and Random Forest) perform the best. The ensemble leverages this performance.\n",
    "\n",
    "## Introduce nested CV scheme\n",
    "#### An optional excursion to ensure the our ensemble's scores are accurate\n",
    "\n",
    "As mentioned, the ensemble could be overfitting the noise specific to its test set if it's trained on predictions from models that were themselves trained on the test set. This is a problem if we want accurate scores to be used for method comparision. To get around it we'll implement the following scheme.\n",
    "\n",
    "First, the data is split into _p_ folds. These are our 'outer' folds. Each fold contains a test set and a training set for the ensemble.\n",
    "\n",
    "In each of the _p_ folds, we need to build the training set. This we'll accomplish by normal _k_-fold CV for each of our 1st-stage methods. Rotating through the _k_ folds, training and predicting our 1st-stage methods _k_ times, will result in a full training set of predictions. \n",
    "\n",
    "We'll also need the test set. This we can accomplish by training our 1st stage methods on the whole training set, and predicting the test set. This part is just normal _p_-fold CV.\n",
    "\n",
    "Now we have a training set and a test set for the ensemble, so we'll train, predict, and test it. This completes the first fold! \n",
    "\n",
    "After repeating the same process on each of the _p_ folds, we'll have predictions of the neural response for the entire dataset, and _p_ psuedo-$R^2^ scores for the ensemble. We'll have trained the 1st stage method _p(k+1)_ times throughout this process, so it can be quite computationally demanding. It's up to the user to decide if this computational cost is worth the guarantee that the ensemble's score is not inflated because of information leakage.\n",
    "\n"
   ]
  },
  {
   "cell_type": "code",
   "execution_count": 46,
   "metadata": {
    "collapsed": true
   },
   "outputs": [],
   "source": [
    "# These two methods implement the above scheme. We don't want to be forced to run the ensemble \n",
    "# at the same time as we train the other methods on each fold, so we'll save the 1st-stage predictions for later\n",
    "# and use separate methods for training a 1st-stage method and the 2nd-stage method. This will make more sense\n",
    "# when we implement this.\n",
    "\n",
    "# Basically, the first method is used to train a 1st-stage method, and the 2nd to train a 2nd-stage method.\n",
    "\n",
    "\n",
    "def fit_nested_cv(X, Y, algorithm = 'glm_pyglmnet', n_cv_outer=5,n_cv_inner=5, verbose=1):\n",
    "    \"\"\"Outputs a list of n_cv_outer prediction vectors Yt_hats, each with length size(Y).\n",
    "    \n",
    "    n_cv_outer is p, in the notation above, and n_cv_inner is k.\n",
    "    \n",
    "    Each prediction vector will be used to train and test a single fold of the ensemble \n",
    "    in the method `ensemble_cv`. \"\"\"\n",
    "    \n",
    "    if np.ndim(X)==1:\n",
    "        X = np.transpose(np.atleast_2d(X))\n",
    "\n",
    "    # indices of outer test/train split for each fold\n",
    "        # It is imperative that the random state be identical to the random state of the Kfold used\n",
    "        # in ensemble_cv\n",
    "    cv_kf = KFold(n_splits=n_cv_outer, shuffle=True, random_state=42)\n",
    "    skf  = cv_kf.split(X)\n",
    "\n",
    "    i=1\n",
    "    Y_hat=np.zeros((len(Y),n_cv_outer))\n",
    "    pR2_cv = list()\n",
    "    # In outer loop, we rotate the test set through the full dataset\n",
    "    for idx_r, idx_t in skf:\n",
    "        if verbose > 1:\n",
    "            print( '...runnning outer cv-fold', i, 'of', n_cv_outer)\n",
    "       \n",
    "        Xr_o = X[idx_r, :] # train set input\n",
    "        Yr_o = Y[idx_r] # train set output\n",
    "        Xt_o = X[idx_t, :] # test set input\n",
    "        Yt_o = Y[idx_t] # test set output (used for scoring ensemble only)\n",
    "        \n",
    "        \n",
    "        cv_kf_in = KFold(n_splits=n_cv_inner, shuffle=True, random_state=42)\n",
    "        skf_inner  = cv_kf_in.split(Xr_o)\n",
    "        \n",
    "        j=1\n",
    "        # In the inner loop, we perform CV to predict the full validation set Yr_o, which will be recorded\n",
    "        # to be used for ensemble training. THEN we use the full Xr_o to predict values for Xt_o, which will\n",
    "        # be used for ensemble evaluation.\n",
    "        for idx_r_inner, idx_t_inner in skf_inner:\n",
    "        \n",
    "            j+=1\n",
    "            Xr = Xr_o[idx_r_inner, :]\n",
    "            Yr = Yr_o[idx_r_inner]\n",
    "            Xt = Xr_o[idx_t_inner, :]\n",
    "            Yt = Yr_o[idx_t_inner]\n",
    "            # Predict a fold of the Yr_o (validation)\n",
    "            Yt_hat = eval(algorithm)(Xr, Yr, Xt)\n",
    "            \n",
    "            full_indices = idx_r[idx_t_inner] # indices of inner loop\n",
    "            Y_hat[full_indices,i-1] = Yt_hat\n",
    "\n",
    "            Yt_hat.reshape(Yt.shape)\n",
    "            pR2 = poisson_pseudoR2(Yt, Yt_hat, np.mean(Yr))\n",
    "            pR2_cv.append(pR2)\n",
    "\n",
    "            if verbose > 1:\n",
    "                print( 'pR2: ', pR2)\n",
    "                \n",
    "        # Now predict the ensemble's test set\n",
    "        Yt_hat = eval(algorithm)(Xr_o, Yr_o, Xt_o)\n",
    "        Y_hat[idx_t,i-1] = Yt_hat\n",
    "        pR2 = poisson_pseudoR2(Yt_o, Yt_hat, np.mean(Yr_o))\n",
    "        pR2_cv.append(pR2)\n",
    "                \n",
    "        i+=1\n",
    "\n",
    "    if verbose > 0:\n",
    "        print(\"pR2_cv: %0.6f (+/- %0.6f)\" % (np.mean(pR2_cv),\n",
    "                                             np.std(pR2_cv)/np.sqrt(n_cv_inner*n_cv_outer)))\n",
    "\n",
    "    return Y_hat, pR2_cv\n",
    "\n",
    "\n",
    "def ensemble_cv(X_list, Y, algorithm = 'glm_pyglmnet', n_cv_outer=5, verbose=1):\n",
    "    \"\"\"Outputs the scores and prediction of the ensemble on held-out data.\n",
    "    \n",
    "    X = list of (size(Y),n_cv_outer) np array. Each array is a previously trained method's predictions \n",
    "    all single folds. It should be of dimension (np.size(Y),n_cv_outer).\n",
    "    \n",
    "    It is necessary that n_cv_outer and the random state of the KFold be the same as\n",
    "    in `fit_nested_cv`. \"\"\"\n",
    "    \n",
    "    for x in X_list:\n",
    "        assert x.shape == (np.size(Y),n_cv_outer)\n",
    "        \n",
    "\n",
    "    # indices of outer test/train split for each fold\n",
    "    cv_kf = KFold(n_splits=n_cv_outer, shuffle=True, random_state=42)\n",
    "    skf  = cv_kf.split(X_list[0])\n",
    "\n",
    "    i=0\n",
    "    Y_hat=np.zeros(len(Y))\n",
    "    pR2_cv = list()\n",
    "    for idx_r, idx_t in skf:\n",
    "        \n",
    "        # Get the first fold from each list\n",
    "        X = np.array([x[:,i] for x in X_list])\n",
    "        X = X.transpose()\n",
    "        \n",
    "        Xr = X[idx_r, :]\n",
    "        Yr = Y[idx_r]\n",
    "        Xt = X[idx_t, :]\n",
    "        Yt = Y[idx_t]\n",
    "        \n",
    "        i+=1\n",
    "        if verbose > 1:\n",
    "            print( '...runnning cv-fold', i, 'of', n_cv_outer)\n",
    "        \n",
    "        Yt_hat = eval(algorithm)(Xr, Yr, Xt)\n",
    "        Y_hat[idx_t] = Yt_hat\n",
    "        \n",
    "        pR2 = poisson_pseudoR2(Yt, Yt_hat, np.mean(Yr))\n",
    "        pR2_cv.append(pR2)\n",
    "\n",
    "        if verbose > 1:\n",
    "            print( 'pR2: ', pR2)\n",
    "\n",
    "        \n",
    "\n",
    "    if verbose > 0:\n",
    "        print(\"pR2_cv: %0.6f (+/- %0.6f)\" % (np.mean(pR2_cv),\n",
    "                                             np.std(pR2_cv)/np.sqrt(n_cv_outer)))\n",
    "\n",
    "    return Y_hat, pR2_cv\n"
   ]
  },
  {
   "cell_type": "markdown",
   "metadata": {},
   "source": [
    "Let's run this on the same neuron above and see if there's a difference in the ensemble score"
   ]
  },
  {
   "cell_type": "code",
   "execution_count": 47,
   "metadata": {},
   "outputs": [
    {
     "name": "stdout",
     "output_type": "stream",
     "text": [
      "pR2_cv: 0.159959 (+/- 0.004044)\n"
     ]
    }
   ],
   "source": [
    "methods = ['glm_pyglmnet','nn','xgb_run','rf','knn']\n",
    "\n",
    "X_ens = list()\n",
    "for method in methods:\n",
    "    print('Running '+method+'...')\n",
    "    Yt_hat, PR2 = fit_nested_cv(X, y, algorithm = method ,n_cv_outer=8)\n",
    "    Models[method+'_nested'] = dict()\n",
    "    Models[method+'_nested']['Yt_hat'] = Yt_hat\n",
    "    Models[method+'_nested']['PR2'] = PR2\n",
    "    # Put the previous results in a new data matrix\n",
    "    X_ens.append(Yt_hat)\n",
    "\n",
    "print('Running ensemble...')\n",
    "\n",
    "\n",
    "Yt_hat, PR2 = ensemble_cv(X_ens, y, algorithm = 'xgb_run', n_cv_outer=8, verbose=1)\n",
    "Models['ens_nested'] = dict()\n",
    "Models['ens_nested']['Yt_hat'] = Yt_hat\n",
    "Models['ens_nested']['PR2'] = PR2"
   ]
  },
  {
   "cell_type": "code",
   "execution_count": 48,
   "metadata": {},
   "outputs": [
    {
     "data": {
      "image/png": "[encoded data removed]",
      "text/plain": [
       "<matplotlib.figure.Figure at 0x7f5af2db4e90>"
      ]
     },
     "metadata": {},
     "output_type": "display_data"
    }
   ],
   "source": [
    "plot_model_comparison(['ens_engineered','ens_nested']\n",
    "                      ,models=Models, color=colors,labels = ['Ens. \\n(not nested)','Ens. (nested)'])"
   ]
  },
  {
   "cell_type": "markdown",
   "metadata": {},
   "source": [
    "__We can see that the nested CV scheme didn't make much of a difference on this dataset. For now we can assume that normal k-fold CV is not overfitting the data.__\n",
    "\n",
    "## Run over all neurons in the dataset\n",
    "\n",
    "In the publication we tested 4 feature sets for the M1 dataset. Here we'll just run over the engineered feature set.\n",
    "\n",
    "This is currently set up to run normal CV scheme. This for for expediency; with this dataset and these methods, the nested CV scheme took our machine several hours to run."
   ]
  },
  {
   "cell_type": "code",
   "execution_count": null,
   "metadata": {},
   "outputs": [
    {
     "name": "stdout",
     "output_type": "stream",
     "text": [
      "\n",
      " running for neuron 0\n",
      "Running glm_pyglmnet...\n",
      "pR2_cv: 0.019708 (+/- 0.002247)\n",
      "Running nn...\n",
      "pR2_cv: 0.025202 (+/- 0.003476)\n",
      "Running xgb_run...\n",
      "pR2_cv: 0.043901 (+/- 0.003588)\n",
      "Running rf...\n",
      "pR2_cv: 0.030623 (+/- 0.004210)\n",
      "Running knn...\n",
      "pR2_cv: -2.723586 (+/- 0.165410)\n",
      "Running ensemble...\n",
      "pR2_cv: 0.039113 (+/- 0.004420)\n",
      "\n",
      " running for neuron 1\n",
      "Running glm_pyglmnet...\n",
      "pR2_cv: 0.050800 (+/- 0.001905)\n",
      "Running nn...\n",
      "pR2_cv: 0.107952 (+/- 0.003695)\n",
      "Running xgb_run...\n",
      "pR2_cv: 0.151781 (+/- 0.004155)\n",
      "Running rf...\n",
      "pR2_cv: 0.153035 (+/- 0.007690)\n",
      "Running knn...\n",
      "pR2_cv: -1.448570 (+/- 0.113684)\n",
      "Running ensemble...\n",
      "pR2_cv: 0.160966 (+/- 0.004447)\n",
      "\n",
      " running for neuron 2\n",
      "Running glm_pyglmnet...\n",
      "pR2_cv: 0.068629 (+/- 0.002075)\n",
      "Running nn...\n",
      "pR2_cv: 0.081361 (+/- 0.003728)\n",
      "Running xgb_run...\n",
      "pR2_cv: 0.116009 (+/- 0.003960)\n",
      "Running rf...\n",
      "pR2_cv: 0.110817 (+/- 0.009056)\n",
      "Running knn...\n",
      "pR2_cv: -1.435584 (+/- 0.083983)\n",
      "Running ensemble...\n",
      "pR2_cv: 0.117260 (+/- 0.005539)\n",
      "\n",
      " running for neuron 3\n",
      "Running glm_pyglmnet...\n",
      "pR2_cv: 0.040684 (+/- 0.001907)\n",
      "Running nn...\n",
      "pR2_cv: 0.076482 (+/- 0.003945)\n",
      "Running xgb_run...\n",
      "pR2_cv: 0.108575 (+/- 0.004181)\n",
      "Running rf...\n",
      "pR2_cv: 0.097349 (+/- 0.007634)\n",
      "Running knn...\n",
      "pR2_cv: -2.301393 (+/- 0.125503)\n",
      "Running ensemble...\n",
      "pR2_cv: 0.109097 (+/- 0.005146)\n",
      "\n",
      " running for neuron 4\n",
      "Running glm_pyglmnet...\n",
      "pR2_cv: 0.024160 (+/- 0.002219)\n",
      "Running nn...\n",
      "pR2_cv: 0.189817 (+/- 0.003849)\n",
      "Running xgb_run...\n",
      "pR2_cv: 0.302463 (+/- 0.004459)\n",
      "Running rf...\n",
      "pR2_cv: 0.305592 (+/- 0.006707)\n",
      "Running knn...\n",
      "pR2_cv: 0.190224 (+/- 0.011230)\n",
      "Running ensemble...\n",
      "pR2_cv: 0.306045 (+/- 0.005913)\n",
      "\n",
      " running for neuron 5\n",
      "Running glm_pyglmnet...\n",
      "pR2_cv: 0.002092 (+/- 0.000789)\n",
      "Running nn...\n",
      "pR2_cv: -0.007359 (+/- 0.005511)\n",
      "Running xgb_run...\n",
      "pR2_cv: 0.024298 (+/- 0.004774)\n",
      "Running rf...\n",
      "pR2_cv: -0.024255 (+/- 0.017313)\n",
      "Running knn...\n",
      "pR2_cv: -7.400815 (+/- 0.215506)\n",
      "Running ensemble...\n",
      "pR2_cv: 0.018893 (+/- 0.006812)\n",
      "\n",
      " running for neuron 6\n",
      "Running glm_pyglmnet...\n",
      "pR2_cv: 0.045851 (+/- 0.001498)\n",
      "Running nn...\n",
      "pR2_cv: 0.050224 (+/- 0.001662)\n",
      "Running xgb_run...\n",
      "pR2_cv: 0.086977 (+/- 0.001950)\n",
      "Running rf...\n",
      "pR2_cv: 0.078311 (+/- 0.003805)\n",
      "Running knn...\n",
      "pR2_cv: -0.908422 (+/- 0.045085)\n",
      "Running ensemble...\n",
      "pR2_cv: 0.085858 (+/- 0.003321)\n",
      "\n",
      " running for neuron 7\n",
      "Running glm_pyglmnet...\n",
      "pR2_cv: -0.000145 (+/- 0.000054)\n",
      "Running nn...\n",
      "pR2_cv: -0.009065 (+/- 0.007305)\n",
      "Running xgb_run...\n",
      "pR2_cv: -0.027098 (+/- 0.017731)\n",
      "Running rf...\n",
      "pR2_cv: -0.208098 (+/- 0.077388)\n",
      "Running knn...\n",
      "pR2_cv: -5.395353 (+/- 0.192988)\n",
      "Running ensemble...\n",
      "pR2_cv: -0.070074 (+/- 0.048760)\n",
      "\n",
      " running for neuron 8\n",
      "Running glm_pyglmnet...\n",
      "pR2_cv: 0.002439 (+/- 0.000841)\n",
      "Running nn...\n",
      "pR2_cv: -0.016480 (+/- 0.008390)\n",
      "Running xgb_run...\n",
      "pR2_cv: -0.000922 (+/- 0.009676)\n",
      "Running rf...\n",
      "pR2_cv: -0.127746 (+/- 0.023388)\n",
      "Running knn...\n",
      "pR2_cv: -6.498334 (+/- 0.155970)\n",
      "Running ensemble...\n",
      "pR2_cv: -0.000204 (+/- 0.006620)\n",
      "\n",
      " running for neuron 9\n",
      "Running glm_pyglmnet...\n"
     ]
    }
   ],
   "source": [
    "methods = ['glm_pyglmnet','nn','xgb_run','rf','knn']\n",
    "\n",
    "# We'll store both the predictions and the psuedo-R2 score in a dictionary for each \n",
    "for method in methods:\n",
    "    Models[method+'_all'] = dict()\n",
    "    Models[method+'_all']['PR2']  = list()\n",
    "    Models[method+'_all']['Yt_hat']  = list()\n",
    "Models['ens_all'] = dict()\n",
    "Models['ens_all']['Yt_hat'] = list()\n",
    "Models['ens_all']['PR2'] = list()\n",
    "\n",
    "nneurons = np.shape(m1_imported['spikes'])[0]\n",
    "for i in range(nneurons):\n",
    "    \n",
    "    print '\\n running for neuron %d' % i\n",
    "    \n",
    "    y = m1_imported['spikes'][i]\n",
    "\n",
    "    for method in methods:\n",
    "        print('Running '+method+'...')\n",
    "        Yt_hat, PR2 = fit_cv(X, y, algorithm = method, n_cv=8, verbose=1)\n",
    "     \n",
    "        Models[method+'_all']['Yt_hat'].append(Yt_hat)\n",
    "        Models[method+'_all']['PR2'].append(PR2)\n",
    "        \n",
    "    print('Running ensemble...')\n",
    "    # Put the previous results in a new data matrix\n",
    "    X_ens = list()\n",
    "    for method in methods:\n",
    "        X_ens.append(Models[method+'_all']['Yt_hat'][i])\n",
    "    X_ens = np.transpose(np.array(X_ens))\n",
    "\n",
    "    Yt_hat, PR2 = fit_cv(X_ens, y, algorithm = 'xgb_run', n_cv=8, verbose=1)\n",
    "    Models['ens_all']['Yt_hat'].append(Yt_hat)\n",
    "    Models['ens_all']['PR2'].append(PR2)"
   ]
  },
  {
   "cell_type": "markdown",
   "metadata": {},
   "source": [
    "This is a method for nicely plotting the scores of methods over an entire dataset:"
   ]
  },
  {
   "cell_type": "code",
   "execution_count": 73,
   "metadata": {
    "collapsed": true
   },
   "outputs": [],
   "source": [
    "import mpl_toolkits.axes_grid.inset_locator as il\n",
    "\n",
    "def bootstrap(yy):\n",
    "    # sample with replacement\n",
    "    means = []\n",
    "    N = 1000\n",
    "    for i in range(N):\n",
    "        yy_samp = np.random.choice(yy,len(yy))\n",
    "        means.append(np.mean(yy_samp))\n",
    "    means = np.sort(means)\n",
    "    crit05 = int(0.025*N)\n",
    "    crit95 = int(0.975*N)\n",
    "    return np.abs(np.mean(yy)-means[[crit05,crit95]])\n",
    "\n",
    "def plot_scatter(models_,ax_ran=[0, 0.2, 0, 0.2],ts=16,models = Models,labels = None):\n",
    "    \"\"\"Plots scores as a scatter plot with an inset of the population mean.\n",
    "    \n",
    "    models_ = list of strings of the methods to plot. First in the list is the x-axis, rest are scatter.\n",
    "                The strings should be keys in the dict `models`.\n",
    "    ax_ran = the plotting range. Given to plt.axis\n",
    "    ts = label size\n",
    "    models = dictionary that contains results of methods.\n",
    "    labels = list of labels for inset bar chart. Defaults to the keys of the dictionary. \"\"\"\n",
    "    \n",
    "    if labels is None:\n",
    "        labels = models_\n",
    "    \n",
    "    glm_ = models_[0]\n",
    "    sn = np.sqrt(len(np.array(models[glm_]['PR2'][1])))\n",
    "    xx = np.mean(np.array(models[glm_]['PR2']), axis=1)\n",
    "    xerr = np.std(np.array(models[glm_]['PR2']), axis=1)/sn\n",
    "    alpha_lines = 0.3\n",
    "    alpha = 1\n",
    "    lim = ax_ran[1]\n",
    "    i=0\n",
    "    p = []\n",
    "    \n",
    "    means=[np.mean(xx)]\n",
    "    mean_err = bootstrap(xx)\n",
    "    \n",
    "    for mod in models_[1:]:\n",
    "        yy = np.mean(np.array(models[mod]['PR2']), axis=1)\n",
    "        yerr = np.std(np.array(models[mod]['PR2']), axis=1)/sn\n",
    "       \n",
    "       \n",
    "        ## uncomment to plot error\n",
    "        #p1,c,b=plt.errorbar(xx, yy,fmt=marks[i], xerr = xerr, yerr = yerr ,ms=msize[i], alpha=1,color=colors[i+1])\n",
    "        p1,=plt.plot(xx, yy, '.', ms=10, alpha=.5,color=colors[i+1])\n",
    "        \n",
    "        p.append(p1)\n",
    "        plt.plot([-lim, lim], [-lim, lim], 'k:', lw=1, alpha=alpha_lines)\n",
    "        \n",
    "        i+=1\n",
    "        \n",
    "        means.append(np.mean(yy))\n",
    "        mean_err = np.vstack((mean_err,bootstrap(yy)))\n",
    "\n",
    "        \n",
    "    ax = plt.gca()\n",
    "    simpleaxis(ax)\n",
    "\n",
    "    plt.xlabel('GLM pseudo-$R^2$',fontsize=ts)\n",
    "    plt.ylabel('Modern ML pseudo-$R^2$',fontsize=ts)\n",
    "    plt.axis(ax_ran)\n",
    "            \n",
    "    ax.set_yticks([0], minor=True)\n",
    "    ax.set_xticks([0], minor=True)\n",
    "    plt.grid(which='minor')\n",
    "    \n",
    "    # insert bar chart that is the average\n",
    "    \n",
    "    freq = np.round(1.5*np.max(means)/5,2)\n",
    "    if freq<0.01:\n",
    "        freq = np.round(np.max(means)/5,3)\n",
    "\n",
    "    \n",
    "    inset_axes = il.inset_axes(ax, \n",
    "                    width=\"40%\", # width = 34% of parent_bbox\n",
    "                    height=\"50%\", # height : 1 inch\n",
    "                    loc=7, borderpad = 1.5,\n",
    "                    axes_kwargs = {'title':'Mean p$R^2$',\n",
    "                                   'yticks':np.arange(0,np.max(means)*1.5,freq),\n",
    "                                   'ylim':[-np.max(means)*.1,np.max(means)*1.5] })\n",
    "    \n",
    "\n",
    "    plt.bar(np.arange(np.size(means)), means, 0.8, align='center',\n",
    "            ecolor='k', alpha=.9, color=colors, ec='w',yerr = mean_err.transpose(),\n",
    "            tick_label=labels)\n",
    "    plt.plot([-.6,len(labels)-.6],[0,0],color='black',)\n"
   ]
  },
  {
   "cell_type": "code",
   "execution_count": 74,
   "metadata": {},
   "outputs": [
    {
     "data": {
      "image/png": "[encoded data removed]",
      "text/plain": [
       "<matplotlib.figure.Figure at 0x7f5af84be0d0>"
      ]
     },
     "metadata": {},
     "output_type": "display_data"
    }
   ],
   "source": [
    "plot_scatter(['glm_pyglmnet_all','nn_all','xgb_run_all','ens_all'],ax_ran=[0, 0.3, 0, 0.3],ts=16,\n",
    "             models = Models,labels = ['GLM','NN','XGB','Ens.'])\n",
    "plt.show()"
   ]
  },
  {
   "cell_type": "markdown",
   "metadata": {},
   "source": [
    "Note that the GLM has not been optimized on this feature set for this tutorial. We managed in the paper to bring it to the level of the NN. Our parameters for XGBoost could be improved, too. Here we observe that it performs better in general (as seen in the scatter) but that some outliers were overfit and are pulling down the mean scores. \n",
    "\n",
    "To improve the methods, we can optimize their parameters with the following method in Appendix 1."
   ]
  },
  {
   "cell_type": "markdown",
   "metadata": {
    "collapsed": true
   },
   "source": [
    "## Appendix 1: Hyperparameter optimization\n",
    "\n",
    "Each of the above methods has a number of parameters that can be changed. Selecting the correct values isn't trivial, and can have a very large effect on the output score. Since the 'model parameters' already means something else, these tunable parameters are called 'hyperparameters'. \n",
    "\n",
    "Scikit-learn has number of methods for finding hyperpameters (\"see here\"[http://scikit-learn.org/stable/modules/grid_search.html]). These include grid and randomized search.\n",
    "\n",
    "We're a fan of Bayesian Optimization, since it seems a bit smarter. There are a number of implementations of this; we chose to use BayesOpt. __(Running this method will require installing this \"package\"[https://github.com/fmfn/BayesianOptimization])__ The following method is given as an example. The method is a bit convoluted and perphaps messy (sorry!) but is designed for ease-of-use. Here, we optimize for XGBoost."
   ]
  },
  {
   "cell_type": "code",
   "execution_count": null,
   "metadata": {
    "collapsed": true
   },
   "outputs": [],
   "source": [
    "\n",
    "from bayes_opt import BayesianOptimization\n",
    "from sklearn.cross_validation import train_test_split\n",
    "\n",
    "def bayes_opt_xgb(X,y,xgbBO=None, num_iter=10):\n",
    "    \"\"\"Return an optmized XGB for a dataset. Allows warm start; can pass Bayes_opt object from previous run.\"\"\"\n",
    "    # Optimize on a held-out set.\n",
    "    X_train, X_test, y_train, y_test = train_test_split(X, y, test_size=0.2)\n",
    "\n",
    "    params=dict()\n",
    "    \n",
    "    # BayesOpt optimizes any function that takes parameters and returns a score. \n",
    "    # We need to define a function like this for XGBoost. That's what xgb_evaluate does.\n",
    "    def xgb_evaluate(min_child_weight,\n",
    "                     colsample_bytree,\n",
    "                     max_depth,\n",
    "                     subsample,\n",
    "                     gamma,\n",
    "                     learning_rate,\n",
    "                     n_estimators):\n",
    "\n",
    "\n",
    "        params['min_child_weight'] = int(min_child_weight)\n",
    "        params['colsample_bytree'] = max(min(colsample_bytree, 1), 0)\n",
    "        params['max_depth'] = int(max_depth)\n",
    "        params['subsample'] = max(min(subsample, 1), 0)\n",
    "        params['gamma'] = max(gamma, 0)\n",
    "        params['learning_rate'] = max(learning_rate, 0)\n",
    "        params['n_estimators'] = max(n_estimators, 0)\n",
    "\n",
    "        \n",
    "        # This actually creates the instance of XGBoost. It will be fed to fit_cv, which will output the score.\n",
    "        def xgb_new(Xr, Yr, Xt):\n",
    "            params['objective']= \"count:poisson\" #for poisson output\n",
    "            params['eval_metric']= \"logloss\" #loglikelihood loss\n",
    "            params['seed']= 2925 #for reproducibility\n",
    "            params['silent']= 1\n",
    "            params['nthread'] = -1 #with -1 it will use all available threads\n",
    "\n",
    "            dtrain = xgb.DMatrix(Xr, label=Yr)\n",
    "            dtest = xgb.DMatrix(Xt)\n",
    "\n",
    "            num_round = 200\n",
    "            bst = xgb.train(params, dtrain, num_round)\n",
    "\n",
    "            Yt = bst.predict(dtest)\n",
    "            return Yt\n",
    "\n",
    "        Yt_hat, PR2 = fit_cv(X_train, y_train, xgb_new, n_cv=6, verbose=0, label=[])\n",
    "\n",
    "        return np.mean(PR2)\n",
    "\n",
    "    random_state = 2016\n",
    "  \n",
    "\n",
    "    if not xgbBO:  #allow warm start. If starting from scratch, do:\n",
    "        init_points=1\n",
    "        \n",
    "        # Here is where we set the bounds of the parameters to explore.\n",
    "        xgbBO = BayesianOptimization(xgb_evaluate, {'min_child_weight': (1, 10),\n",
    "                                                    'colsample_bytree': (1, 1),\n",
    "                                                    'max_depth': (1, 10),\n",
    "                                                    'subsample': (0.5, 1),\n",
    "                                                    'gamma': (0, 0.4),\n",
    "                                                    'learning_rate': (0.05, 0.25),\n",
    "                                                    'n_estimators':(10, 1000)\n",
    "                                                    },verbose=1)\n",
    "        # can place results of previous runs here to improve performance\n",
    "        xgbBO.explore( {'colsample_bytree': [1,1.0,1,1],\n",
    "                        'gamma': [0.21173851024558027,0.4,0.2199632,0.18957],\n",
    "                        'learning_rate': [0.10848417655111556,0.05,0.0952752,0.099619],\n",
    "                        'max_depth': [2.097849266768804,8.1, 1.3364514,2.39364],\n",
    "                        'min_child_weight': [8.85532939789740331,1,3.06446781,6.33840],\n",
    "                        'n_estimators': [900.3009605914325,511,190.8645, 925.70248],\n",
    "                        'subsample': [0.83434308305954963,0.5,0.85830945,0.798837]})  \n",
    "\n",
    "    \n",
    "    else:\n",
    "         init_points = 2\n",
    "\n",
    "    # This is the actual optimization method.\n",
    "    xgbBO.maximize(init_points=init_points, n_iter=num_iter, xi=0.0)\n",
    "    values = xgbBO.res['max']\n",
    "    print(values)\n",
    "    \n",
    "  \n",
    "    #want to return an optmized method for later use!! We can also see the parameters by typing xgbBO.res['max']\n",
    "    params = values['max_params']\n",
    "    def xgb_best(Xr, Yr, Xt,returnModel=0):\n",
    "            params['min_child_weight'] = int(params['min_child_weight'])\n",
    "            params['max_depth'] = int(params['max_depth'])\n",
    "            params['objective']= \"count:poisson\" #for poisson output\n",
    "            params['eval_metric']= \"logloss\" #loglikelihood loss\n",
    "            params['seed']= 2925 #for reproducibility\n",
    "            params['silent']= 1\n",
    "            params['nthread'] = -1 #with -1 it will use all available threads\n",
    "            params['colsample_bytree']= 1.0\n",
    "\n",
    "            dtrain = xgb.DMatrix(Xr, label=Yr)\n",
    "            dtest = xgb.DMatrix(Xt)\n",
    "\n",
    "            num_round = 200\n",
    "            bst = xgb.train(params, dtrain, num_round)\n",
    "\n",
    "            Yt = bst.predict(dtest)\n",
    "            if returnModel:\n",
    "                return bst\n",
    "            else: \n",
    "                return Yt\n",
    "    return xgb_best, xgbBO"
   ]
  },
  {
   "cell_type": "markdown",
   "metadata": {},
   "source": [
    "This method can be used as follows."
   ]
  },
  {
   "cell_type": "code",
   "execution_count": null,
   "metadata": {
    "collapsed": true
   },
   "outputs": [],
   "source": [
    "XGB_optimized, xgbBO_optimized = bayes_opt_xgb(X,y,num_iter=5)\n",
    "\n",
    "Yt_hat, PR2 = fit_cv(X, y, algorithm = 'XGB_optimized', n_cv=10, verbose=1, label=[])"
   ]
  },
  {
   "cell_type": "markdown",
   "metadata": {},
   "source": [
    "## Appendix 2: GLM implemented with R's glmnet.\n",
    "\n",
    "Since the GLM depends on a proper learning rate, regularization path, etc., it can be helpful to compare with other packages with different defaults. The package in R (glmnet) is pretty robust. If it is desired to compare the two GLMs, one can use R's glmnet in python with the following method (designed to interface with `fit_cv`).\n",
    "\n",
    "This requires the installation of rpy2."
   ]
  },
  {
   "cell_type": "code",
   "execution_count": null,
   "metadata": {
    "collapsed": true
   },
   "outputs": [],
   "source": [
    "import rpy2.robjects as ro\n",
    "import rpy2.robjects.numpy2ri as n2r\n",
    "n2r.activate()\n",
    "\n",
    "r = ro.r\n",
    "r.library('glmnet')\n",
    "\n",
    "\n",
    "def r_glmnet(Xr,Yr,Xt):\n",
    "    yr = ro.FloatVector(Yr) \n",
    "    trained_model = r['glmnet'](Xr, yr, family=\"poisson\",alpha = 0.1)\n",
    "    lambda_min = np.asanyarray(trained_model.rx2('lambda'))[-1]\n",
    "    Yt = r['predict'](trained_model,s=lambda_min,newx=Xt,type=\"response\")\n",
    "#     betas = np.asanyarray(r['as.matrix'](trained_model.rx2('beta')))[:,-1]\n",
    "#     beta0 = np.asanyarray(r['as.matrix'](trained_model.rx2('a0')))[-1]\n",
    "#     print(betas,beta0)\n",
    "    return np.array(list(Yt))"
   ]
  },
  {
   "cell_type": "code",
   "execution_count": null,
   "metadata": {
    "collapsed": true
   },
   "outputs": [],
   "source": []
  }
 ],
 "metadata": {
  "anaconda-cloud": {},
  "kernelspec": {
   "display_name": "Python [Root]",
   "language": "python",
   "name": "Python [Root]"
  },
  "language_info": {
   "codemirror_mode": {
    "name": "ipython",
    "version": 3
   },
   "file_extension": ".py",
   "mimetype": "text/x-python",
   "name": "python",
   "nbconvert_exporter": "python",
   "pygments_lexer": "ipython3",
   "version": "3.5.3"
  }
 },
 "nbformat": 4,
 "nbformat_minor": 1
}
